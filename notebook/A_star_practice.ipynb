{
 "cells": [
  {
   "cell_type": "code",
   "execution_count": 1,
   "metadata": {},
   "outputs": [],
   "source": [
    "import math\n",
    "import numpy as np\n",
    "import copy\n",
    "import matplotlib.pyplot as plt"
   ]
  },
  {
   "cell_type": "code",
   "execution_count": 2,
   "metadata": {},
   "outputs": [],
   "source": [
    "class Environment:\n",
    "    def __init__(self):\n",
    "        self.maze = np.array([[0.0, 0, 0, 0, 1, 0, 0, 0, 0, 0],\n",
    "            [0, 0, 0, 0, 1, 0, 0, 0, 0, 0],\n",
    "            [0, 0, 0, 0, 1, 0, 0, 0, 0, 0],\n",
    "            [0, 0, 0, 0, 1, 0, 0, 0, 0, 0],\n",
    "            [0, 0, 0, 0, 1, 0, 0, 0, 0, 0],\n",
    "            [0, 0, 0, 0, 0, 0, 0, 0, 0, 0],\n",
    "            [0, 0, 0, 0, 1, 0, 0, 0, 0, 0],\n",
    "            [0, 0, 0, 0, 1, 0, 0, 0, 0, 0],\n",
    "            [0, 0, 0, 0, 1, 0, 0, 0, 0, 0],\n",
    "            [0, 0, 0, 0, 0, 0, 0, 0, 0, 0]])\n",
    "        self.start = (0,0)\n",
    "        self.goal = (self.maze.shape[0]-1,self.maze.shape[1]-1)\n",
    "        self.goal = (0,9)\n",
    "        "
   ]
  },
  {
   "cell_type": "code",
   "execution_count": 3,
   "metadata": {},
   "outputs": [],
   "source": [
    "class StateNode:\n",
    "    def __init__(self,parentIndex,g,h):\n",
    "        self.parent = parentIndex\n",
    "        self.g = g\n",
    "        self.h = h\n",
    "        self.f = g + h\n",
    "    def getF(self):\n",
    "        return self.f"
   ]
  },
  {
   "cell_type": "code",
   "execution_count": 4,
   "metadata": {},
   "outputs": [],
   "source": [
    "class AStarMethod:\n",
    "    def __init__(self):\n",
    "        self.env = Environment()\n",
    "        self.openList = {}\n",
    "        self.closedList = {}\n",
    "        \n",
    "    def run(self):        \n",
    "        # add the start point to the open list. Its g = 0, h is an estimate distance towards the goal\n",
    "        self.openList[self.env.start] = StateNode(self.env.start,0,self.getH(self.env.start))\n",
    "        \n",
    "        while len(self.openList) > 0:\n",
    "            # find the minimum element in the open list and put it into the closed list. Search its children          \n",
    "            currentNode = self.moveToMinNode()\n",
    "            # search for the children of the current node\n",
    "            if self.searchChildren(currentNode):\n",
    "                break\n",
    "    def getOptimalPath(self):\n",
    "        self.closedList[self.env.goal] = copy.deepcopy(self.openList[self.env.goal])\n",
    "        parent = self.env.goal\n",
    "        optimalPath = [parent]\n",
    "        while parent != self.env.start:\n",
    "            parent = self.closedList[parent].parent\n",
    "            optimalPath.append(parent)\n",
    "        return optimalPath\n",
    "        \n",
    "            \n",
    "    def searchChildren(self,currentNode):\n",
    "        numOfValidChildren = 0\n",
    "        actions = [(0, -1), (0, 1), (-1, 0), (1, 0), (-1, -1), (-1, 1), (1, -1), (1, 1)]\n",
    "        for act in actions:\n",
    "            # check if \n",
    "            possibleChild = (currentNode[0]+act[0],currentNode[1]+act[1])\n",
    "            \n",
    "            if possibleChild[0] >= self.env.maze.shape[0] or possibleChild[0] < 0 or possibleChild[1] >= self.env.maze.shape[0] or possibleChild[1]<0:\n",
    "                continue\n",
    "            \n",
    "            if self.env.maze.item(possibleChild) == 0:\n",
    "                # Check if this child is already in the open list or the closed list\n",
    "                if possibleChild in self.closedList:\n",
    "                    continue\n",
    "                # Update the child in the open list (update it parent or add it to the open list)\n",
    "                self.updateChild(possibleChild,currentNode) \n",
    "                if possibleChild == self.env.goal:\n",
    "                    return True\n",
    "            else:\n",
    "                continue\n",
    "        return False\n",
    "                \n",
    "    def updateChild(self,child,parent):\n",
    "        if child in self.openList:\n",
    "            if self.openList[child].g > self.getG(child,parent):\n",
    "                self.openList[child].g = self.getG(child,parent)\n",
    "                self.openList[child].f = self.openList[child].g + self.openList[child].h\n",
    "                self.openList[child].parent = parent\n",
    "        else:\n",
    "            self.openList[child] = StateNode(parent,self.getG(child,parent),self.getH(child))\n",
    "            \n",
    "            \n",
    "            \n",
    "    def moveToMinNode(self):\n",
    "        # NOTE: use deepcopy to move elements from dict1 to dict2!! Otherwise, it is just a link\n",
    "        minIndex = min(self.openList, key=lambda p: self.openList[p].f)\n",
    "        self.closedList[minIndex] = copy.deepcopy(self.openList[minIndex])\n",
    "        self.openList.pop(minIndex)\n",
    "        return minIndex\n",
    "    \n",
    "    def getG(self,child,parent):\n",
    "        if math.sqrt((child[0] - parent[0])**2 + (child[1] - parent[1])**2) > 1:\n",
    "            return 3 + self.closedList[parent].g\n",
    "        else:\n",
    "            return 1 + self.closedList[parent].g\n",
    "    \n",
    "    def getH(self,node):\n",
    "        return math.sqrt((node[0] - self.env.goal[0])**2 + (node[1] - self.env.goal[1])**2) * 2 "
   ]
  },
  {
   "cell_type": "code",
   "execution_count": 5,
   "metadata": {},
   "outputs": [],
   "source": [
    "astar = AStarMethod()\n",
    "astar.run()\n",
    "optimalPath = astar.getOptimalPath()"
   ]
  },
  {
   "cell_type": "code",
   "execution_count": 6,
   "metadata": {},
   "outputs": [
    {
     "name": "stdout",
     "output_type": "stream",
     "text": [
      "(0, 9)\n",
      "(1, 8)\n",
      "(2, 8)\n",
      "(2, 7)\n",
      "(3, 7)\n",
      "(3, 6)\n",
      "(4, 6)\n",
      "(4, 5)\n",
      "(5, 5)\n",
      "(5, 4)\n",
      "(5, 3)\n",
      "(4, 3)\n",
      "(3, 3)\n",
      "(2, 3)\n",
      "(1, 3)\n",
      "(0, 3)\n",
      "(0, 2)\n",
      "(0, 1)\n",
      "(0, 0)\n",
      "[[0.5 0.5 0.5 0.5 1.  0.  0.  0.  0.  0.5]\n",
      " [0.  0.  0.  0.5 1.  0.  0.  0.  0.5 0. ]\n",
      " [0.  0.  0.  0.5 1.  0.  0.  0.5 0.5 0. ]\n",
      " [0.  0.  0.  0.5 1.  0.  0.5 0.5 0.  0. ]\n",
      " [0.  0.  0.  0.5 1.  0.5 0.5 0.  0.  0. ]\n",
      " [0.  0.  0.  0.5 0.5 0.5 0.  0.  0.  0. ]\n",
      " [0.  0.  0.  0.  1.  0.  0.  0.  0.  0. ]\n",
      " [0.  0.  0.  0.  1.  0.  0.  0.  0.  0. ]\n",
      " [0.  0.  0.  0.  1.  0.  0.  0.  0.  0. ]\n",
      " [0.  0.  0.  0.  0.  0.  0.  0.  0.  0. ]]\n"
     ]
    },
    {
     "data": {
      "text/plain": [
       "<matplotlib.image.AxesImage at 0x7f302d66f668>"
      ]
     },
     "execution_count": 6,
     "metadata": {},
     "output_type": "execute_result"
    },
    {
     "data": {
      "image/png": "[encoded data removed]",
      "text/plain": [
       "<Figure size 432x288 with 1 Axes>"
      ]
     },
     "metadata": {
      "needs_background": "light"
     },
     "output_type": "display_data"
    }
   ],
   "source": [
    "fig = plt.figure(1)\n",
    "ax = fig.gca()\n",
    "\n",
    "for node in optimalPath:\n",
    "    print(node)\n",
    "    astar.env.maze[node[0],node[1]] = 0.5\n",
    "print(astar.env.maze)\n",
    "plt.imshow(astar.env.maze)\n"
   ]
  },
  {
   "cell_type": "code",
   "execution_count": null,
   "metadata": {},
   "outputs": [],
   "source": []
  }
 ],
 "metadata": {
  "kernelspec": {
   "display_name": "Python 3",
   "language": "python",
   "name": "python3"
  },
  "language_info": {
   "codemirror_mode": {
    "name": "ipython",
    "version": 3
   },
   "file_extension": ".py",
   "mimetype": "text/x-python",
   "name": "python",
   "nbconvert_exporter": "python",
   "pygments_lexer": "ipython3",
   "version": "3.6.10"
  }
 },
 "nbformat": 4,
 "nbformat_minor": 4
}
