{
 "cells": [
  {
   "cell_type": "code",
   "execution_count": 1,
   "metadata": {},
   "outputs": [],
   "source": [
    "import sys\n",
    "import os\n",
    "sys.path.insert(0, os.path.abspath('../src'))\n",
    "import numpy as np\n",
    "import copy\n",
    "import matplotlib.pyplot as plt\n",
    "from mpl_toolkits.mplot3d import axes3d \n",
    "import math\n",
    "import anyterrain as at\n",
    "import time\n",
    "import aStarLocal\n",
    "import aStarGlobal"
   ]
  },
  {
   "cell_type": "code",
   "execution_count": 2,
   "metadata": {},
   "outputs": [],
   "source": [
    "terrain = at.Terrain(0)\n"
   ]
  },
  {
   "cell_type": "markdown",
   "metadata": {},
   "source": [
    "### One leg planner always work with fast speed"
   ]
  },
  {
   "cell_type": "code",
   "execution_count": null,
   "metadata": {},
   "outputs": [],
   "source": [
    "start = (4.0,1.0)\n",
    "goal = (6.,18.)\n",
    "anyAStarGlobal = aStarGlobal.AnymalAStarGlobal(start,goal,terrain)\n",
    "\n",
    "anyAStarGlobal.run()\n",
    "\n",
    "\n",
    "\n",
    "start = (2.0,1.0)\n",
    "goal = (2.0,18.0)\n",
    "anyAStarGlobal1 = aStarGlobal.AnymalAStarGlobal(start,goal,terrain)\n",
    "anyAStarGlobal1.run()\n",
    "\n",
    "\n",
    "fig = plt.figure(1)\n",
    "ax = fig.gca(projection='3d')\n",
    "terrain.plotPlanes(ax)\n",
    "plt.rcParams[\"figure.figsize\"]=20,20\n",
    "anyAStarGlobal.plotOptimalPath(ax)\n",
    "anyAStarGlobal1.plotOptimalPath(ax)\n"
   ]
  },
  {
   "cell_type": "markdown",
   "metadata": {},
   "source": [
    "### Four-leg planner works in most cases"
   ]
  },
  {
   "cell_type": "code",
   "execution_count": null,
   "metadata": {},
   "outputs": [],
   "source": [
    "start = (2.0,1.0,3.14/2)\n",
    "goal = (2,18,3.14/2)\n",
    "anyAStarLocal = aStarLocal.AnymalAStarLocal(start,goal,terrain)\n",
    "isAstarSuccess = anyAStarLocal.run()\n",
    "\n",
    "start = (1.0,2.0,3.14/2)\n",
    "goal = (8,15.0,3.14/2)\n",
    "anyAStarLocal1 = aStarLocal.AnymalAStarLocal(start,goal,terrain)\n",
    "isAstarSuccess = anyAStarLocal1.run()\n",
    "\n",
    "start = (6.0,2.0,3.14/2)\n",
    "goal = (8,15.0,3.14/2)\n",
    "anyAStarLocal2 = aStarLocal.AnymalAStarLocal(start,goal,terrain)\n",
    "isAstarSuccess = anyAStarLocal2.run()\n",
    "\n",
    "fig = plt.figure(2)\n",
    "ax = fig.gca(projection='3d')\n",
    "terrain.plotPlanes(ax)\n",
    "plt.rcParams[\"figure.figsize\"]=20,20\n",
    "anyAStarLocal.plotOptimalPath(ax)\n",
    "anyAStarLocal1.plotOptimalPath(ax)\n",
    "anyAStarLocal2.plotOptimalPath(ax)\n"
   ]
  },
  {
   "cell_type": "markdown",
   "metadata": {},
   "source": [
    "### But in some special cases, the four-leg planner gets stuck"
   ]
  },
  {
   "cell_type": "code",
   "execution_count": null,
   "metadata": {},
   "outputs": [],
   "source": [
    "start = (5.0,1.0,3.14/2)\n",
    "goal = (5,18,3.14/2)\n",
    "anyAStarLocal = aStarLocal.AnymalAStarLocal(start,goal,terrain)\n",
    "isAstarSuccess = anyAStarLocal.run()\n",
    "\n",
    "fig = plt.figure(3)\n",
    "ax = fig.gca(projection='3d')\n",
    "terrain.plotPlanes(ax)\n",
    "plt.rcParams[\"figure.figsize\"]=20,20\n",
    "anyAStarLocal.plotSearchProgress(ax)"
   ]
  },
  {
   "cell_type": "markdown",
   "metadata": {},
   "source": [
    "### So we have a cascaded A* method. One Leg A* is usd to set local target for four legs A*"
   ]
  },
  {
   "cell_type": "code",
   "execution_count": null,
   "metadata": {},
   "outputs": [],
   "source": [
    "startGlobal = (5.0,1.0)\n",
    "goalGlobal = (5.0,18.0)\n",
    "startLocal = (startGlobal[0],startGlobal[1],3.14/2)\n",
    "\n",
    "flagArrivedTheGoal = False\n",
    "\n",
    "terrain = at.Terrain(0)\n",
    "fig = plt.figure(1)\n",
    "ax = fig.gca(projection='3d')\n",
    "terrain.plotPlanes(ax)\n",
    "\n",
    "counter = 0\n",
    "\n",
    "while True:\n",
    "    globalPlanner = aStarGlobal.AnymalAStarGlobal(startGlobal,goalGlobal,terrain)\n",
    "    globalPlanner.run()\n",
    "    optimalPath, localTarget = globalPlanner.getOptimalPath(0.7)\n",
    "    refinedLocalTarget = globalPlanner.refineTarget(localTarget)\n",
    "    \n",
    "    localTarget = (refinedLocalTarget[0],refinedLocalTarget[1],3.14/2)\n",
    "    \n",
    "#     print(\"localTarget =\",localTarget,\"startLocal = \",startLocal)\n",
    "    \n",
    "    localPlanner = aStarLocal.AnymalAStarLocal(startLocal,localTarget,terrain)\n",
    "    localPlanner.run()\n",
    "    localPlanner.plotOptimalPath(ax)\n",
    "    \n",
    "    startGlobal = (localTarget[0],localTarget[1])\n",
    "    startLocal = localTarget\n",
    "    \n",
    "    counter = counter + 1\n",
    "    if counter == 10:\n",
    "        break\n",
    "        \n",
    "\n",
    "startGlobal = (2.0,1.0)\n",
    "goalGlobal = (2.0,18.0)\n",
    "startLocal = (startGlobal[0],startGlobal[1],3.14/2)\n",
    "counter = 0\n",
    "\n",
    "while True:\n",
    "    globalPlanner = aStarGlobal.AnymalAStarGlobal(startGlobal,goalGlobal,terrain)\n",
    "    globalPlanner.run()\n",
    "    optimalPath, localTarget = globalPlanner.getOptimalPath(0.7)\n",
    "    refinedLocalTarget = globalPlanner.refineTarget(localTarget)\n",
    "    \n",
    "    localTarget = (refinedLocalTarget[0],refinedLocalTarget[1],3.14/2)\n",
    "    \n",
    "#     print(\"localTarget =\",localTarget,\"startLocal = \",startLocal)\n",
    "    \n",
    "    localPlanner = aStarLocal.AnymalAStarLocal(startLocal,localTarget,terrain)\n",
    "    localPlanner.run()\n",
    "    localPlanner.plotOptimalPath(ax)\n",
    "    \n",
    "    startGlobal = (localTarget[0],localTarget[1])\n",
    "    startLocal = localTarget\n",
    "    \n",
    "    counter = counter + 1\n",
    "    if counter == 10:\n",
    "        break"
   ]
  },
  {
   "cell_type": "code",
   "execution_count": null,
   "metadata": {},
   "outputs": [],
   "source": []
  }
 ],
 "metadata": {
  "kernelspec": {
   "display_name": "Python 3",
   "language": "python",
   "name": "python3"
  },
  "language_info": {
   "codemirror_mode": {
    "name": "ipython",
    "version": 3
   },
   "file_extension": ".py",
   "mimetype": "text/x-python",
   "name": "python",
   "nbconvert_exporter": "python",
   "pygments_lexer": "ipython3",
   "version": "3.7.6"
  }
 },
 "nbformat": 4,
 "nbformat_minor": 4
}
