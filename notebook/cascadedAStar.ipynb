{
 "cells": [
  {
   "cell_type": "code",
   "execution_count": 1,
   "metadata": {},
   "outputs": [
    {
     "name": "stdout",
     "output_type": "stream",
     "text": [
      "Notebook initialized with png backend.\n"
     ]
    }
   ],
   "source": [
    "import sys\n",
    "import os\n",
    "sys.path.insert(0, os.path.abspath('../src'))\n",
    "import numpy as np\n",
    "import copy\n",
    "# import matplotlib.pyplot as plt\n",
    "#from mpl_toolkits.mplot3d import axes3d \n",
    "import math\n",
    "import anyterrain as at\n",
    "import time\n",
    "import aStarLocal\n",
    "import aStarGlobal\n",
    "from mayavi import mlab\n",
    "from IPython.display import Image\n",
    "mlab.init_notebook(backend='png')"
   ]
  },
  {
   "cell_type": "code",
   "execution_count": 2,
   "metadata": {},
   "outputs": [],
   "source": [
    "\n",
    "# mlab.test_plot3d()"
   ]
  },
  {
   "cell_type": "code",
   "execution_count": 3,
   "metadata": {},
   "outputs": [],
   "source": [
    "terrain = at.Terrain(0)\n"
   ]
  },
  {
   "cell_type": "markdown",
   "metadata": {},
   "source": [
    "### One leg planner always work with fast speed"
   ]
  },
  {
   "cell_type": "code",
   "execution_count": null,
   "metadata": {},
   "outputs": [],
   "source": [
    "start = (4.0,1.0)\n",
    "goal = (6.,18.)\n",
    "anyAStarGlobal = aStarGlobal.AnymalAStarGlobal(start,goal,terrain)\n",
    "\n",
    "anyAStarGlobal.run()\n",
    "\n",
    "\n",
    "\n",
    "start = (2.0,1.0)\n",
    "goal = (2.0,18.0)\n",
    "anyAStarGlobal1 = aStarGlobal.AnymalAStarGlobal(start,goal,terrain)\n",
    "anyAStarGlobal1.run()\n",
    "\n",
    "\n",
    "fig = mlab.figure(1,size=(800, 700))\n",
    "anyAStarGlobal.plotOptimalPath(fig)\n",
    "anyAStarGlobal1.plotOptimalPath(fig)\n",
    "terrain.plotPlanes(fig)\n",
    "\n",
    "mlab.view(azimuth=-80.0,roll = -12.0)\n",
    "display(fig)"
   ]
  },
  {
   "cell_type": "markdown",
   "metadata": {},
   "source": [
    "### Four-leg planner works in most cases but in some special cases, the four-leg planner gets stuck"
   ]
  },
  {
   "cell_type": "code",
   "execution_count": null,
   "metadata": {},
   "outputs": [],
   "source": [
    "start = (2.0,1.0,3.14/2)\n",
    "goal = (2,18,3.14/2)\n",
    "anyAStarLocal = aStarLocal.AnymalAStarLocal(start,goal,terrain)\n",
    "isAstarSuccess = anyAStarLocal.run()\n",
    "\n",
    "start = (1.0,2.0,3.14/2)\n",
    "goal = (8,15.0,3.14/2)\n",
    "anyAStarLocal1 = aStarLocal.AnymalAStarLocal(start,goal,terrain)\n",
    "isAstarSuccess = anyAStarLocal1.run()\n",
    "\n",
    "start = (6.0,2.0,3.14/2)\n",
    "goal = (8,15.0,3.14/2)\n",
    "anyAStarLocal2 = aStarLocal.AnymalAStarLocal(start,goal,terrain)\n",
    "isAstarSuccess = anyAStarLocal2.run()\n",
    "\n",
    "start = (5.0,1.0,3.14/2)\n",
    "goal = (5,18,3.14/2)\n",
    "anyAStarLocal3 = aStarLocal.AnymalAStarLocal(start,goal,terrain)\n",
    "isAstarSuccess = anyAStarLocal3.run()\n",
    "\n",
    "fig = mlab.figure(2,size=(800, 700))\n",
    "terrain.plotPlanes(fig)\n",
    "anyAStarLocal.plotOptimalPath(fig)\n",
    "anyAStarLocal1.plotOptimalPath(fig)\n",
    "anyAStarLocal2.plotOptimalPath(fig)\n",
    "anyAStarLocal3.plotSearchProgress(fig)\n",
    "\n",
    "mlab.view(azimuth=-80.0,roll = -12.0)\n",
    "display(fig)\n"
   ]
  },
  {
   "cell_type": "markdown",
   "metadata": {},
   "source": [
    "### So we have a cascaded A* method. One Leg A* is usd to set local target for four legs A*"
   ]
  },
  {
   "cell_type": "code",
   "execution_count": null,
   "metadata": {},
   "outputs": [],
   "source": [
    "startGlobal = (5.0,1.0)\n",
    "goalGlobal = (5.0,18.0)\n",
    "startLocal = (startGlobal[0],startGlobal[1],3.14/2)\n",
    "\n",
    "flagArrivedTheGoal = False\n",
    "\n",
    "terrain = at.Terrain(0)\n",
    "fig = mlab.figure(4,size=(800, 700))\n",
    "terrain.plotPlanes(fig)\n",
    "\n",
    "counter = 0\n",
    "\n",
    "while True:\n",
    "    globalPlanner = aStarGlobal.AnymalAStarGlobal(startGlobal,goalGlobal,terrain)\n",
    "    globalPlanner.run()\n",
    "    optimalPath, localTarget = globalPlanner.getOptimalPath(0.7)\n",
    "    refinedLocalTarget = globalPlanner.refineTarget(localTarget)\n",
    "    \n",
    "    localTarget = (refinedLocalTarget[0],refinedLocalTarget[1],3.14/2)\n",
    "    \n",
    "#     print(\"localTarget =\",localTarget,\"startLocal = \",startLocal)\n",
    "    \n",
    "    localPlanner = aStarLocal.AnymalAStarLocal(startLocal,localTarget,terrain)\n",
    "    localPlanner.run()\n",
    "    localPlanner.plotOptimalPath(fig)\n",
    "    \n",
    "    startGlobal = (localTarget[0],localTarget[1])\n",
    "    startLocal = localTarget\n",
    "    \n",
    "    counter = counter + 1\n",
    "    if counter == 10:\n",
    "        break\n",
    "        \n",
    "\n",
    "startGlobal = (2.0,1.0)\n",
    "goalGlobal = (2.0,18.0)\n",
    "startLocal = (startGlobal[0],startGlobal[1],3.14/2)\n",
    "counter = 0\n",
    "\n",
    "while True:\n",
    "    globalPlanner = aStarGlobal.AnymalAStarGlobal(startGlobal,goalGlobal,terrain)\n",
    "    globalPlanner.run()\n",
    "    optimalPath, localTarget = globalPlanner.getOptimalPath(0.7)\n",
    "    refinedLocalTarget = globalPlanner.refineTarget(localTarget)\n",
    "    \n",
    "    localTarget = (refinedLocalTarget[0],refinedLocalTarget[1],3.14/2)\n",
    "    \n",
    "#     print(\"localTarget =\",localTarget,\"startLocal = \",startLocal)\n",
    "    \n",
    "    localPlanner = aStarLocal.AnymalAStarLocal(startLocal,localTarget,terrain)\n",
    "    localPlanner.run()\n",
    "    localPlanner.plotOptimalPath(fig)\n",
    "    \n",
    "    startGlobal = (localTarget[0],localTarget[1])\n",
    "    startLocal = localTarget\n",
    "    \n",
    "    counter = counter + 1\n",
    "    if counter == 10:\n",
    "        break\n",
    "        \n",
    "mlab.view(azimuth=-80.0,roll = -12.0)\n",
    "display(fig)"
   ]
  },
  {
   "cell_type": "code",
   "execution_count": null,
   "metadata": {},
   "outputs": [],
   "source": []
  }
 ],
 "metadata": {
  "kernelspec": {
   "display_name": "Python 3",
   "language": "python",
   "name": "python3"
  },
  "language_info": {
   "codemirror_mode": {
    "name": "ipython",
    "version": 3
   },
   "file_extension": ".py",
   "mimetype": "text/x-python",
   "name": "python",
   "nbconvert_exporter": "python",
   "pygments_lexer": "ipython3",
   "version": "3.6.12"
  }
 },
 "nbformat": 4,
 "nbformat_minor": 4
}
